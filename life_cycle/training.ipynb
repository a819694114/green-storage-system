{
 "cells": [
  {
   "cell_type": "code",
   "execution_count": 2,
   "id": "c990d33d-6a8f-41ff-a9f7-278193554240",
   "metadata": {
    "tags": []
   },
   "outputs": [],
   "source": [
    "import json\n",
    "import boto3\n",
    "import pickle\n",
    "from io import BytesIO\n",
    "import pandas as pd\n",
    "from sklearn.model_selection import train_test_split\n",
    "from sklearn.preprocessing import StandardScaler\n",
    "from sklearn.ensemble import RandomForestRegressor\n",
    "from sklearn.linear_model import LinearRegression\n",
    "from sklearn.ensemble import RandomForestClassifier\n",
    "from sklearn.neural_network import MLPClassifier\n",
    "from sklearn.metrics import mean_squared_error\n",
    "from sagemaker import get_execution_role\n",
    "import sagemaker"
   ]
  },
  {
   "cell_type": "code",
   "execution_count": 3,
   "id": "0868925e-3f44-432c-bbae-c6df4913bf00",
   "metadata": {
    "tags": []
   },
   "outputs": [
    {
     "name": "stdout",
     "output_type": "stream",
     "text": [
      "Using bucket sagemaker-us-east-1-132067349151\n"
     ]
    }
   ],
   "source": [
    "sm_boto3 = boto3.client(\"sagemaker\")\n",
    "\n",
    "sess = sagemaker.Session()\n",
    "\n",
    "region = sess.boto_session.region_name\n",
    "\n",
    "bucket = sess.default_bucket()  # this could also be a hard-coded bucket name\n",
    "\n",
    "print(\"Using bucket \" + bucket)"
   ]
  },
  {
   "cell_type": "code",
   "execution_count": 4,
   "id": "655311b6-919e-42a6-befe-07cd43253f3c",
   "metadata": {
    "tags": []
   },
   "outputs": [
    {
     "data": {
      "text/plain": [
       "'us-east-1'"
      ]
     },
     "execution_count": 4,
     "metadata": {},
     "output_type": "execute_result"
    }
   ],
   "source": [
    "region"
   ]
  },
  {
   "cell_type": "code",
   "execution_count": 5,
   "id": "d0c66eb2-0594-42b0-8707-eb58b4b5d534",
   "metadata": {
    "tags": []
   },
   "outputs": [],
   "source": [
    "RANDOM_STATE = 100"
   ]
  },
  {
   "cell_type": "code",
   "execution_count": 6,
   "id": "249fc0ae-67bc-44af-b867-ec07c196db9a",
   "metadata": {
    "tags": []
   },
   "outputs": [],
   "source": [
    "# Run this cell to import or install the Data Wrangler widget to show automatic visualization and generate code to fix data quality issues\n",
    "\n",
    "try:\n",
    "    import sagemaker_datawrangler\n",
    "except ImportError:\n",
    "    !pip install --upgrade sagemaker-datawrangler\n",
    "    import sagemaker_datawrangler\n",
    "\n",
    "# Display Pandas DataFrame to view the widget: df, display(df), df.sample()... "
   ]
  },
  {
   "cell_type": "code",
   "execution_count": 7,
   "id": "667732e5-31c1-42d3-b673-32832414d8a8",
   "metadata": {
    "tags": []
   },
   "outputs": [],
   "source": [
    "source_bucket = \"greenstoragetest\"\n",
    "data_key = \"df.csv\"\n",
    "data_location = 's3://{}/{}'.format(source_bucket, data_key)\n",
    "df = pd.read_csv(data_location, index_col = 0)"
   ]
  },
  {
   "cell_type": "code",
   "execution_count": 8,
   "id": "aadbfb37-7e63-49c5-80f2-07fc4faa9a68",
   "metadata": {
    "tags": []
   },
   "outputs": [
    {
     "data": {
      "application/vnd.jupyter.widget-view+json": {
       "model_id": "a056554159d34f46ad20f143621c1540"
      },
      "text/plain": [
       "                  id          cycle             IR             QC  \\\n",
       "count  100501.000000  100501.000000  100501.000000  100501.000000   \n",
       "mean       62.377051     490.156615       0.016629       1.031048   \n",
       "std        40.362826     388.039203       0.001370       0.056753   \n",
       "min         0.000000       1.000000       0.000000       0.000000   \n",
       "25%        23.000000     203.000000       0.015571       1.014073   \n",
       "50%        66.000000     409.000000       0.016601       1.048886   \n",
       "75%        99.000000     675.000000       0.017355       1.067319   \n",
       "max       123.000000    2236.000000       0.024405       2.965895   \n",
       "\n",
       "                  QD           Tavg           Tmin           Tmax  \\\n",
       "count  100501.000000  100501.000000  100501.000000  100501.000000   \n",
       "mean        1.030881      34.069687      31.212060      37.791954   \n",
       "std         0.056205       2.012331       1.633117       2.647476   \n",
       "min         0.000000       0.000000       0.000000       0.000000   \n",
       "25%         1.013984      32.835144      30.074018      36.183933   \n",
       "50%         1.049053      33.899730      30.950415      38.023376   \n",
       "75%         1.067586      35.347254      32.350765      39.705406   \n",
       "max         2.884085      39.586732      35.807240      43.772045   \n",
       "\n",
       "          chargetime     cycle_life  \n",
       "count  100501.000000  100501.000000  \n",
       "mean       11.171436     974.163013  \n",
       "std         6.581179     466.673680  \n",
       "min         0.000000     148.000000  \n",
       "25%        10.049835     636.000000  \n",
       "50%        10.334992     862.000000  \n",
       "75%        11.430038    1093.000000  \n",
       "max      1290.370762    2237.000000  "
      ]
     },
     "metadata": {},
     "output_type": "display_data"
    }
   ],
   "source": [
    "df.describe()"
   ]
  },
  {
   "cell_type": "code",
   "execution_count": 9,
   "id": "5c07aa4a-1f14-4261-824c-a409276438d7",
   "metadata": {
    "tags": []
   },
   "outputs": [],
   "source": [
    "def preprocess_data(df):\n",
    "    df = df.dropna()\n",
    "    scaler = StandardScaler()\n",
    "    scaler.fit(df)\n",
    "    scaler.transform(df)\n",
    "    return df\n",
    "    \n",
    "def regression_process(df, train = False):\n",
    "    irdf = []\n",
    "    qdf = []\n",
    "    time = []\n",
    "    ir=[]\n",
    "    Q = []\n",
    "    T = []\n",
    "    new_df = pd.DataFrame()\n",
    "    if train:\n",
    "        y = []\n",
    "    for bat in df['id'].unique():\n",
    "        ir10 = df.loc[df['id'] == bat][df['cycle']==10]['IR']\n",
    "        ir100 = df.loc[df['id'] == bat][df['cycle']==100]['IR']\n",
    "        dif = float(ir100) - float(ir10)\n",
    "        irdf.append(dif)\n",
    "        q10 = df.loc[df['id'] == bat][df['cycle']==10]['QD']\n",
    "        q100 = df.loc[df['id'] == bat][df['cycle']==100]['QD']\n",
    "        dif = float(q100) - float(q10)\n",
    "        qdf.append(dif)\n",
    "        t10 = df.loc[df['id'] == bat][df['cycle']==10]['chargetime']\n",
    "        t100 = df.loc[df['id'] == bat][df['cycle']==100]['chargetime']\n",
    "        dif = float(t100)- float(t10)\n",
    "        time.append(dif)\n",
    "        ir.append(float(df.loc[df['id'] == bat][df['cycle']==100]['IR']))\n",
    "        Q.append(float(df.loc[df['id'] == bat][df['cycle']==100]['QD']))\n",
    "        T.append(float(df.loc[df['id'] == bat][df['cycle']==100]['Tmax']))\n",
    "        if train:\n",
    "            y.append(int(df.loc[df['id'] == bat][df['cycle'] == 10]['cycle_life']))\n",
    "    new_df['id'] = df['id'].unique()\n",
    "    new_df['IR_var'] = irdf\n",
    "    new_df['QD_var'] = qdf\n",
    "    new_df['time'] = time\n",
    "    new_df['ir'] = ir\n",
    "    new_df['Q'] = Q\n",
    "    new_df['T'] = T\n",
    "    if train:\n",
    "        return new_df, y\n",
    "    return new_df\n",
    "\n",
    "def classify(df):\n",
    "    df = df.copy()\n",
    "    df['percent'] = df['cycle']/df['cycle_life']\n",
    "    df.loc[df['percent'] < 0.3, 'condition'] = '2'\n",
    "    df.loc[df['percent'] >= 0.3, 'condition'] = '1'\n",
    "    df.loc[df['percent'] >= 0.7, 'condition'] = '0'\n",
    "    del df['percent']\n",
    "    X = df.copy()\n",
    "    y = df['condition']\n",
    "    del X['condition']\n",
    "    clf = MLPClassifier(solver='adam', alpha=1e-5,hidden_layer_sizes=(32, 64), random_state=RANDOM_STATE, max_iter=300, early_stopping = False, validation_fraction=0.3)\n",
    "    clf.fit(X,y)\n",
    "    print(\"NN Classification score:\")\n",
    "    print(clf.score(X,y))\n",
    "    return clf\n",
    "\n",
    "def rf_classify(df):\n",
    "    df = df.copy()\n",
    "    df['percent'] = df['cycle']/df['cycle_life']\n",
    "    df.loc[df['percent'] < 0.3, 'condition'] = '2'\n",
    "    df.loc[df['percent'] >= 0.3, 'condition'] = '1'\n",
    "    df.loc[df['percent'] >= 0.7, 'condition'] = '0'\n",
    "    del df['percent']\n",
    "    X = df.copy()\n",
    "    y = df['condition']\n",
    "    del X['condition']\n",
    "    clf = RandomForestClassifier(max_depth = 10, random_state = RANDOM_STATE)\n",
    "    clf.fit(X,y)\n",
    "    print(\"RF Classification score:\")\n",
    "    print(clf.score(X,y))\n",
    "    return clf\n",
    "\n",
    "\n",
    "def random_regressor(X_train, X_test, y_train, y_test):\n",
    "    clf = RandomForestRegressor(max_depth = 10, random_state = RANDOM_STATE)\n",
    "    clf.fit(X_train, y_train)\n",
    "    print(clf.score(X_train, y_train))\n",
    "    \n",
    "    ypred = clf.predict(X_train)\n",
    "    mse = mean_squared_error(y_train, ypred)\n",
    "\n",
    "    print(\"The metrics on train set:\")\n",
    "    print(\"MSE: \", mse)\n",
    "    print(\"RMSE: \", mse**(1/2.0))\n",
    "\n",
    "    ypred = clf.predict(X_test)\n",
    "    mse = mean_squared_error(y_test, ypred)\n",
    "    print(\"The metrics on test set:\")\n",
    "    print(\"MSE: \", mse)\n",
    "    print(\"RMSE: \", mse**(1/2.0))\n",
    "    return clf\n",
    "\n",
    "def linear_regressor(X_train, X_test, y_train, y_test): \n",
    "    clf = LinearRegression()\n",
    "    clf.fit(X_train, y_train)\n",
    "    print(clf.score(X_train, y_train))\n",
    "    \n",
    "    ypred = clf.predict(X_train)\n",
    "    mse = mean_squared_error(y_train, ypred)\n",
    "\n",
    "    print(\"The metrics on train set:\")\n",
    "    print(\"MSE: \", mse)\n",
    "    print(\"RMSE: \", mse**(1/2.0))\n",
    "\n",
    "    ypred = clf.predict(X_test)\n",
    "    mse = mean_squared_error(y_test, ypred)\n",
    "    print(\"The metrics on test set:\")\n",
    "    print(\"MSE: \", mse)\n",
    "    print(\"RMSE: \", mse**(1/2.0))\n",
    "    return clf"
   ]
  },
  {
   "cell_type": "code",
   "execution_count": 10,
   "id": "79b2dc59-60d4-408c-84f2-3b31cdeb287f",
   "metadata": {
    "tags": []
   },
   "outputs": [],
   "source": [
    "#df = preprocess_data(df)\n",
    "#X, y = regression_process(df, train = True)\n",
    "X = df.copy()\n",
    "y = df['cycle_life']\n",
    "del X['cycle_life']\n",
    "X_train, X_test, y_train, y_test = train_test_split(X, y, train_size = 0.7, random_state = RANDOM_STATE)\n"
   ]
  },
  {
   "cell_type": "code",
   "execution_count": 11,
   "id": "da080ba4-328a-41b4-8c14-4de405246cf0",
   "metadata": {
    "tags": []
   },
   "outputs": [
    {
     "data": {
      "application/vnd.jupyter.widget-view+json": {
       "model_id": "a64106098f9c49958f04113d3f931bb6"
      },
      "text/plain": [
       "        id  cycle        IR        QC        QD       Tavg       Tmin  \\\n",
       "65801   90  817.0  0.015672  1.046837  1.046945  33.412024  31.691275   \n",
       "66952   91  133.0  0.015251  1.065956  1.065956  33.217787  31.281336   \n",
       "17170   14   53.0  0.019886  1.068417  1.067529  32.159572  29.959637   \n",
       "8284     4  606.0  0.016995  1.063003  1.063165  31.584512  29.561604   \n",
       "49721   65  288.0  0.017400  1.063145  1.063460  34.190475  30.533981   \n",
       "...    ...    ...       ...       ...       ...        ...        ...   \n",
       "65615   90  631.0  0.015480  1.054487  1.054618  34.221615  32.559619   \n",
       "77655  101  649.0  0.015042  1.038318  1.038507  37.413149  34.230814   \n",
       "79683  103  378.0  0.015261  1.053189  1.053685  34.489628  32.033016   \n",
       "56088   77  446.0  0.022267  0.843200  0.840406  34.987186  30.550098   \n",
       "38408   43  179.0  0.017738  1.064017  1.064562  32.875427  29.087925   \n",
       "\n",
       "            Tmax  chargetime  \n",
       "65801  35.193736   11.039118  \n",
       "66952  35.466999   10.044068  \n",
       "17170  35.576157    9.875475  \n",
       "8284   35.061665   12.007967  \n",
       "49721  40.399258   10.188812  \n",
       "...          ...         ...  \n",
       "65615  35.911162   11.036663  \n",
       "77655  40.564545   10.047710  \n",
       "79683  37.889675   10.043320  \n",
       "56088  40.851322   20.000000  \n",
       "38408  38.366745   10.184628  \n",
       "\n",
       "[70350 rows x 9 columns]"
      ]
     },
     "metadata": {},
     "output_type": "display_data"
    }
   ],
   "source": [
    "X_train"
   ]
  },
  {
   "cell_type": "code",
   "execution_count": 12,
   "id": "ddc6aa63-c798-4fac-8386-2121de78c34b",
   "metadata": {
    "tags": []
   },
   "outputs": [
    {
     "name": "stderr",
     "output_type": "stream",
     "text": [
      "/opt/conda/lib/python3.7/site-packages/ipykernel_launcher.py:1: SettingWithCopyWarning: \n",
      "A value is trying to be set on a copy of a slice from a DataFrame.\n",
      "Try using .loc[row_indexer,col_indexer] = value instead\n",
      "\n",
      "See the caveats in the documentation: https://pandas.pydata.org/pandas-docs/stable/user_guide/indexing.html#returning-a-view-versus-a-copy\n",
      "  \"\"\"Entry point for launching an IPython kernel.\n",
      "/opt/conda/lib/python3.7/site-packages/ipykernel_launcher.py:2: SettingWithCopyWarning: \n",
      "A value is trying to be set on a copy of a slice from a DataFrame.\n",
      "Try using .loc[row_indexer,col_indexer] = value instead\n",
      "\n",
      "See the caveats in the documentation: https://pandas.pydata.org/pandas-docs/stable/user_guide/indexing.html#returning-a-view-versus-a-copy\n",
      "  \n"
     ]
    }
   ],
   "source": [
    "X_train[\"target\"] = y_train\n",
    "X_test[\"target\"] = y_test"
   ]
  },
  {
   "cell_type": "code",
   "execution_count": 13,
   "id": "fcf29b7c-7525-4b19-b29b-4ef09837768e",
   "metadata": {
    "tags": []
   },
   "outputs": [
    {
     "name": "stdout",
     "output_type": "stream",
     "text": [
      "0.999999988654558\n",
      "The metrics on train set:\n",
      "MSE:  0.002472412562492243\n",
      "RMSE:  0.04972336032985143\n",
      "The metrics on test set:\n",
      "MSE:  0.0022477089841859694\n",
      "RMSE:  0.04741000932488802\n"
     ]
    }
   ],
   "source": [
    "rf_reg = random_regressor(X_train, X_test, y_train, y_test)"
   ]
  },
  {
   "cell_type": "code",
   "execution_count": 14,
   "id": "a7c72838-bd55-4358-8a22-7412fe723605",
   "metadata": {
    "tags": []
   },
   "outputs": [],
   "source": [
    "X_train.to_csv(\"train.csv\")\n",
    "X_test.to_csv(\"test.csv\")"
   ]
  },
  {
   "cell_type": "code",
   "execution_count": 15,
   "id": "9bef9080-25d4-4ae6-90e1-59cee0936251",
   "metadata": {
    "tags": []
   },
   "outputs": [],
   "source": [
    "trainpath = sess.upload_data(\n",
    "    path=\"train.csv\", bucket=bucket, key_prefix=\"sagemaker/sklearncontainer\"\n",
    ")\n",
    "\n",
    "testpath = sess.upload_data(\n",
    "    path=\"test.csv\", bucket=bucket, key_prefix=\"sagemaker/sklearncontainer\"\n",
    ")"
   ]
  },
  {
   "cell_type": "code",
   "execution_count": 16,
   "id": "65b3e894-718f-4c62-9214-0b3213482fb7",
   "metadata": {
    "tags": []
   },
   "outputs": [
    {
     "name": "stdout",
     "output_type": "stream",
     "text": [
      "Overwriting script.py\n"
     ]
    }
   ],
   "source": [
    "%%writefile script.py\n",
    "\n",
    "import argparse\n",
    "import joblib\n",
    "import os\n",
    "\n",
    "import numpy as np\n",
    "import pandas as pd\n",
    "from sklearn.ensemble import RandomForestRegressor\n",
    "\n",
    "\n",
    "# inference functions ---------------\n",
    "def model_fn(model_dir):\n",
    "    clf = joblib.load(os.path.join(model_dir, \"model.joblib\"))\n",
    "    return clf\n",
    "\n",
    "\n",
    "if __name__ == \"__main__\":\n",
    "\n",
    "    print(\"extracting arguments\")\n",
    "    parser = argparse.ArgumentParser()\n",
    "\n",
    "    # hyperparameters sent by the client are passed as command-line arguments to the script.\n",
    "    # to simplify the demo we don't use all sklearn RandomForest hyperparameters\n",
    "    parser.add_argument(\"--n-estimators\", type=int, default=10)\n",
    "    parser.add_argument(\"--min-samples-leaf\", type=int, default=3)\n",
    "\n",
    "    # Data, model, and output directories\n",
    "    parser.add_argument(\"--model-dir\", type=str, default=os.environ.get(\"SM_MODEL_DIR\"))\n",
    "    parser.add_argument(\"--train\", type=str, default=os.environ.get(\"SM_CHANNEL_TRAIN\"))\n",
    "    parser.add_argument(\"--test\", type=str, default=os.environ.get(\"SM_CHANNEL_TEST\"))\n",
    "    parser.add_argument(\"--train-file\", type=str, default=\"train.csv\")\n",
    "    parser.add_argument(\"--test-file\", type=str, default=\"test.csv\")\n",
    "    parser.add_argument(\n",
    "        \"--features\", type=str\n",
    "    )  # in this script we ask user to explicitly name features\n",
    "    parser.add_argument(\n",
    "        \"--target\", type=str\n",
    "    )  # in this script we ask user to explicitly name the target\n",
    "\n",
    "    args, _ = parser.parse_known_args()\n",
    "\n",
    "    print(\"reading data\")\n",
    "    train_df = pd.read_csv(os.path.join(args.train, args.train_file))\n",
    "    test_df = pd.read_csv(os.path.join(args.test, args.test_file))\n",
    "\n",
    "    print(\"building training and testing datasets\")\n",
    "    X_train = train_df[args.features.split()]\n",
    "    X_test = test_df[args.features.split()]\n",
    "    y_train = train_df[args.target]\n",
    "    y_test = test_df[args.target]\n",
    "\n",
    "    # train\n",
    "    print(\"training model\")\n",
    "    model = RandomForestRegressor(\n",
    "        n_estimators=args.n_estimators, min_samples_leaf=args.min_samples_leaf, n_jobs=-1\n",
    "    )\n",
    "\n",
    "    model.fit(X_train, y_train)\n",
    "\n",
    "    # print abs error\n",
    "    print(\"validating model\")\n",
    "    abs_err = np.abs(model.predict(X_test) - y_test)\n",
    "\n",
    "    # print couple perf metrics\n",
    "    for q in [10, 50, 90]:\n",
    "        print(\"AE-at-\" + str(q) + \"th-percentile: \" + str(np.percentile(a=abs_err, q=q)))\n",
    "\n",
    "    # persist model\n",
    "    path = os.path.join(args.model_dir, \"model.joblib\")\n",
    "    joblib.dump(model, path)\n",
    "    print(\"model persisted at \" + path)\n",
    "    print(args.min_samples_leaf)"
   ]
  },
  {
   "cell_type": "code",
   "execution_count": 17,
   "id": "e12b2a2f-bcf4-4a45-9f7c-e2f4036fca75",
   "metadata": {
    "tags": []
   },
   "outputs": [
    {
     "data": {
      "application/vnd.jupyter.widget-view+json": {
       "model_id": "e0266cda99ac4e0caa430f4b4aa28699"
      },
      "text/plain": [
       "        id  cycle        IR        QC        QD       Tavg       Tmin  \\\n",
       "65801   90  817.0  0.015672  1.046837  1.046945  33.412024  31.691275   \n",
       "66952   91  133.0  0.015251  1.065956  1.065956  33.217787  31.281336   \n",
       "17170   14   53.0  0.019886  1.068417  1.067529  32.159572  29.959637   \n",
       "8284     4  606.0  0.016995  1.063003  1.063165  31.584512  29.561604   \n",
       "49721   65  288.0  0.017400  1.063145  1.063460  34.190475  30.533981   \n",
       "...    ...    ...       ...       ...       ...        ...        ...   \n",
       "65615   90  631.0  0.015480  1.054487  1.054618  34.221615  32.559619   \n",
       "77655  101  649.0  0.015042  1.038318  1.038507  37.413149  34.230814   \n",
       "79683  103  378.0  0.015261  1.053189  1.053685  34.489628  32.033016   \n",
       "56088   77  446.0  0.022267  0.843200  0.840406  34.987186  30.550098   \n",
       "38408   43  179.0  0.017738  1.064017  1.064562  32.875427  29.087925   \n",
       "\n",
       "            Tmax  chargetime  target  \n",
       "65801  35.193736   11.039118  1836.0  \n",
       "66952  35.466999   10.044068   828.0  \n",
       "17170  35.576157    9.875475   691.0  \n",
       "8284   35.061665   12.007967  1709.0  \n",
       "49721  40.399258   10.188812   498.0  \n",
       "...          ...         ...     ...  \n",
       "65615  35.911162   11.036663  1836.0  \n",
       "77655  40.564545   10.047710  1146.0  \n",
       "79683  37.889675   10.043320   813.0  \n",
       "56088  40.851322   20.000000   429.0  \n",
       "38408  38.366745   10.184628   438.0  \n",
       "\n",
       "[70350 rows x 10 columns]"
      ]
     },
     "metadata": {},
     "output_type": "display_data"
    }
   ],
   "source": [
    "X_train"
   ]
  },
  {
   "cell_type": "code",
   "execution_count": 32,
   "id": "0ae71040-53c7-4774-b81a-6c4349907657",
   "metadata": {
    "tags": []
   },
   "outputs": [
    {
     "name": "stdout",
     "output_type": "stream",
     "text": [
      "extracting arguments\n",
      "reading data\n",
      "building training and testing datasets\n",
      "training model\n",
      "validating model\n",
      "AE-at-10th-percentile: 0.0\n",
      "AE-at-50th-percentile: 0.7705000000000268\n",
      "AE-at-90th-percentile: 12.495000000000005\n",
      "model persisted at ./model.joblib\n",
      "2\n"
     ]
    }
   ],
   "source": [
    "! python script.py --n-estimators 100 \\\n",
    "                   --min-samples-leaf 2 \\\n",
    "                   --model-dir ./ \\\n",
    "                   --train ./ \\\n",
    "                   --test ./ \\\n",
    "                   --features 'cycle IR QC QD Tavg Tmin Tmax chargetime' \\\n",
    "                   --target target\n",
    "#'IR_var QD_var time ir Q T' "
   ]
  },
  {
   "cell_type": "code",
   "execution_count": 18,
   "id": "ef8626fe-44fe-490e-a385-b15c8977c32e",
   "metadata": {
    "tags": []
   },
   "outputs": [],
   "source": [
    "import joblib"
   ]
  },
  {
   "cell_type": "code",
   "execution_count": 19,
   "id": "34c350e7-b3ae-4fb3-8217-a52607f6b931",
   "metadata": {
    "tags": []
   },
   "outputs": [],
   "source": [
    "loaded_model = joblib.load('model.joblib')"
   ]
  },
  {
   "cell_type": "code",
   "execution_count": 20,
   "id": "5b4e20fb-2011-46e2-9c9b-05305e3bd00d",
   "metadata": {
    "tags": []
   },
   "outputs": [
    {
     "data": {
      "text/plain": [
       "id               3.000000\n",
       "cycle         1253.000000\n",
       "IR               0.016887\n",
       "QC               0.956192\n",
       "QD               0.955989\n",
       "Tavg            29.518670\n",
       "Tmin            28.165857\n",
       "Tmax            30.773926\n",
       "chargetime      12.321622\n",
       "target        1434.000000\n",
       "Name: 7498, dtype: float64"
      ]
     },
     "execution_count": 20,
     "metadata": {},
     "output_type": "execute_result"
    }
   ],
   "source": [
    "X_train.iloc[100]"
   ]
  },
  {
   "cell_type": "code",
   "execution_count": 21,
   "id": "453cc141-64e4-48a6-b059-17b98fa3f7c0",
   "metadata": {
    "tags": []
   },
   "outputs": [],
   "source": [
    "temp = X_train.iloc[100].copy()\n",
    "del temp['target']\n",
    "del temp['id']\n",
    "y = X_train['target']\n",
    "del X_train['target']\n",
    "del X_train['id']"
   ]
  },
  {
   "cell_type": "code",
   "execution_count": 27,
   "id": "c79378e7-0360-41ec-9227-4fac4fb25dac",
   "metadata": {
    "tags": []
   },
   "outputs": [
    {
     "data": {
      "text/plain": [
       "{'result': array([1434.]),\n",
       " 'eval': 0.9988171244181822,\n",
       " 'condition': array([0.87377964]),\n",
       " 'tmax': 30.773926,\n",
       " 'tmin': 28.165857,\n",
       " 'tavg': 29.51867037119673}"
      ]
     },
     "execution_count": 27,
     "metadata": {},
     "output_type": "execute_result"
    }
   ],
   "source": [
    "dictionary"
   ]
  },
  {
   "cell_type": "code",
   "execution_count": 30,
   "id": "55c4f73d-77db-42aa-af8e-2338500fc5c1",
   "metadata": {
    "tags": []
   },
   "outputs": [
    {
     "data": {
      "text/plain": [
       "'s3://greenstoragetest/sagemaker/sklearncontainer/prediction_soh.json'"
      ]
     },
     "execution_count": 30,
     "metadata": {},
     "output_type": "execute_result"
    }
   ],
   "source": [
    "result = loaded_model.predict([temp])\n",
    "evaluation = loaded_model.score(X_train,y)\n",
    "condition = temp['cycle']/result\n",
    "tmax = temp['Tmax']\n",
    "tmin = temp['Tmin']\n",
    "tavg = temp['Tavg']\n",
    "dictionary = {\n",
    "    \"result\": result[0],\n",
    "    \"eval\" : evaluation,\n",
    "    \"condition\" : condition[0],\n",
    "    \"tmax\" : tmax,\n",
    "    \"tmin\" : tmin,\n",
    "    \"tavg\" : tavg\n",
    "    \"cycle\" : temp['cycle']\n",
    "}\n",
    "json_object = json.dumps(dictionary)\n",
    "with open(\"prediction_soh.json\", \"w\") as outfile:\n",
    "    outfile.write(json_object)\n",
    "sess.upload_data(\n",
    "    path=\"prediction_soh.json\", bucket=\"greenstoragetest\", key_prefix=\"sagemaker/sklearncontainer\"\n",
    ")"
   ]
  },
  {
   "cell_type": "code",
   "execution_count": 17,
   "id": "618d52fc-4e4a-4c28-86f1-8c8f8b0d77b8",
   "metadata": {
    "tags": []
   },
   "outputs": [],
   "source": [
    "from sagemaker.sklearn.estimator import SKLearn\n",
    "\n",
    "FRAMEWORK_VERSION = \"0.23-1\"\n",
    "\n",
    "sklearn_estimator = SKLearn(\n",
    "    entry_point=\"script.py\",\n",
    "    role=get_execution_role(),\n",
    "    instance_count=1,\n",
    "    instance_type=\"ml.m4.xlarge\",\n",
    "    framework_version=FRAMEWORK_VERSION,\n",
    "    base_job_name=\"rf-scikit\",\n",
    "    metric_definitions=[{\"Name\": \"median-AE\", \"Regex\": \"AE-at-50th-percentile: ([0-9.]+).*$\"}],\n",
    "    hyperparameters={\n",
    "        \"n-estimators\": 100,\n",
    "        \"min-samples-leaf\": 3,\n",
    "        \"features\": \"IR_var QD_var time ir Q T\",\n",
    "        \"target\": \"target\",\n",
    "    },\n",
    ")"
   ]
  },
  {
   "cell_type": "code",
   "execution_count": 18,
   "id": "277ac90f-eecb-4270-bd9b-d45e5120bc4e",
   "metadata": {
    "tags": []
   },
   "outputs": [
    {
     "data": {
      "text/plain": [
       "'s3://sagemaker-us-east-1-132067349151/sagemaker/sklearncontainer/train.csv'"
      ]
     },
     "execution_count": 18,
     "metadata": {},
     "output_type": "execute_result"
    }
   ],
   "source": [
    "trainpath"
   ]
  },
  {
   "cell_type": "code",
   "execution_count": 19,
   "id": "1449a882-67ed-4cd4-8a1b-f2ac2f1c330c",
   "metadata": {
    "tags": []
   },
   "outputs": [
    {
     "name": "stderr",
     "output_type": "stream",
     "text": [
      "INFO:sagemaker:Creating training-job with name: rf-scikit-2023-05-06-01-19-25-605\n"
     ]
    },
    {
     "name": "stdout",
     "output_type": "stream",
     "text": [
      "2023-05-06 01:19:26 Starting - Starting the training job...\n",
      "2023-05-06 01:20:01 Starting - Preparing the instances for training.........\n",
      "2023-05-06 01:21:26 Downloading - Downloading input data...\n",
      "2023-05-06 01:21:56 Training - Downloading the training image.....\u001b[34m2023-05-06 01:22:45,317 sagemaker-containers INFO     Imported framework sagemaker_sklearn_container.training\u001b[0m\n",
      "\u001b[34m2023-05-06 01:22:45,321 sagemaker-training-toolkit INFO     No GPUs detected (normal if no gpus installed)\u001b[0m\n",
      "\u001b[34m2023-05-06 01:22:45,365 sagemaker_sklearn_container.training INFO     Invoking user training script.\u001b[0m\n",
      "\u001b[34m2023-05-06 01:22:45,556 sagemaker-training-toolkit INFO     No GPUs detected (normal if no gpus installed)\u001b[0m\n",
      "\u001b[34m2023-05-06 01:22:45,570 sagemaker-training-toolkit INFO     No GPUs detected (normal if no gpus installed)\u001b[0m\n",
      "\u001b[34m2023-05-06 01:22:45,583 sagemaker-training-toolkit INFO     No GPUs detected (normal if no gpus installed)\u001b[0m\n",
      "\u001b[34m2023-05-06 01:22:45,594 sagemaker-training-toolkit INFO     Invoking user script\u001b[0m\n",
      "\u001b[34mTraining Env:\u001b[0m\n",
      "\u001b[34m{\n",
      "    \"additional_framework_parameters\": {},\n",
      "    \"channel_input_dirs\": {\n",
      "        \"test\": \"/opt/ml/input/data/test\",\n",
      "        \"train\": \"/opt/ml/input/data/train\"\n",
      "    },\n",
      "    \"current_host\": \"algo-1\",\n",
      "    \"framework_module\": \"sagemaker_sklearn_container.training:main\",\n",
      "    \"hosts\": [\n",
      "        \"algo-1\"\n",
      "    ],\n",
      "    \"hyperparameters\": {\n",
      "        \"features\": \"IR_var QD_var time ir Q T\",\n",
      "        \"min-samples-leaf\": 3,\n",
      "        \"n-estimators\": 100,\n",
      "        \"target\": \"target\"\n",
      "    },\n",
      "    \"input_config_dir\": \"/opt/ml/input/config\",\n",
      "    \"input_data_config\": {\n",
      "        \"test\": {\n",
      "            \"TrainingInputMode\": \"File\",\n",
      "            \"S3DistributionType\": \"FullyReplicated\",\n",
      "            \"RecordWrapperType\": \"None\"\n",
      "        },\n",
      "        \"train\": {\n",
      "            \"TrainingInputMode\": \"File\",\n",
      "            \"S3DistributionType\": \"FullyReplicated\",\n",
      "            \"RecordWrapperType\": \"None\"\n",
      "        }\n",
      "    },\n",
      "    \"input_dir\": \"/opt/ml/input\",\n",
      "    \"is_master\": true,\n",
      "    \"job_name\": \"rf-scikit-2023-05-06-01-19-25-605\",\n",
      "    \"log_level\": 20,\n",
      "    \"master_hostname\": \"algo-1\",\n",
      "    \"model_dir\": \"/opt/ml/model\",\n",
      "    \"module_dir\": \"s3://sagemaker-us-east-1-132067349151/rf-scikit-2023-05-06-01-19-25-605/source/sourcedir.tar.gz\",\n",
      "    \"module_name\": \"script\",\n",
      "    \"network_interface_name\": \"eth0\",\n",
      "    \"num_cpus\": 4,\n",
      "    \"num_gpus\": 0,\n",
      "    \"output_data_dir\": \"/opt/ml/output/data\",\n",
      "    \"output_dir\": \"/opt/ml/output\",\n",
      "    \"output_intermediate_dir\": \"/opt/ml/output/intermediate\",\n",
      "    \"resource_config\": {\n",
      "        \"current_host\": \"algo-1\",\n",
      "        \"current_instance_type\": \"ml.m4.xlarge\",\n",
      "        \"current_group_name\": \"homogeneousCluster\",\n",
      "        \"hosts\": [\n",
      "            \"algo-1\"\n",
      "        ],\n",
      "        \"instance_groups\": [\n",
      "            {\n",
      "                \"instance_group_name\": \"homogeneousCluster\",\n",
      "                \"instance_type\": \"ml.m4.xlarge\",\n",
      "                \"hosts\": [\n",
      "                    \"algo-1\"\n",
      "                ]\n",
      "            }\n",
      "        ],\n",
      "        \"network_interface_name\": \"eth0\"\n",
      "    },\n",
      "    \"user_entry_point\": \"script.py\"\u001b[0m\n",
      "\u001b[34m}\u001b[0m\n",
      "\u001b[34mEnvironment variables:\u001b[0m\n",
      "\u001b[34mSM_HOSTS=[\"algo-1\"]\u001b[0m\n",
      "\u001b[34mSM_NETWORK_INTERFACE_NAME=eth0\u001b[0m\n",
      "\u001b[34mSM_HPS={\"features\":\"IR_var QD_var time ir Q T\",\"min-samples-leaf\":3,\"n-estimators\":100,\"target\":\"target\"}\u001b[0m\n",
      "\u001b[34mSM_USER_ENTRY_POINT=script.py\u001b[0m\n",
      "\u001b[34mSM_FRAMEWORK_PARAMS={}\u001b[0m\n",
      "\u001b[34mSM_RESOURCE_CONFIG={\"current_group_name\":\"homogeneousCluster\",\"current_host\":\"algo-1\",\"current_instance_type\":\"ml.m4.xlarge\",\"hosts\":[\"algo-1\"],\"instance_groups\":[{\"hosts\":[\"algo-1\"],\"instance_group_name\":\"homogeneousCluster\",\"instance_type\":\"ml.m4.xlarge\"}],\"network_interface_name\":\"eth0\"}\u001b[0m\n",
      "\u001b[34mSM_INPUT_DATA_CONFIG={\"test\":{\"RecordWrapperType\":\"None\",\"S3DistributionType\":\"FullyReplicated\",\"TrainingInputMode\":\"File\"},\"train\":{\"RecordWrapperType\":\"None\",\"S3DistributionType\":\"FullyReplicated\",\"TrainingInputMode\":\"File\"}}\u001b[0m\n",
      "\u001b[34mSM_OUTPUT_DATA_DIR=/opt/ml/output/data\u001b[0m\n",
      "\u001b[34mSM_CHANNELS=[\"test\",\"train\"]\u001b[0m\n",
      "\u001b[34mSM_CURRENT_HOST=algo-1\u001b[0m\n",
      "\u001b[34mSM_MODULE_NAME=script\u001b[0m\n",
      "\u001b[34mSM_LOG_LEVEL=20\u001b[0m\n",
      "\u001b[34mSM_FRAMEWORK_MODULE=sagemaker_sklearn_container.training:main\u001b[0m\n",
      "\u001b[34mSM_INPUT_DIR=/opt/ml/input\u001b[0m\n",
      "\u001b[34mSM_INPUT_CONFIG_DIR=/opt/ml/input/config\u001b[0m\n",
      "\u001b[34mSM_OUTPUT_DIR=/opt/ml/output\u001b[0m\n",
      "\u001b[34mSM_NUM_CPUS=4\u001b[0m\n",
      "\u001b[34mSM_NUM_GPUS=0\u001b[0m\n",
      "\u001b[34mSM_MODEL_DIR=/opt/ml/model\u001b[0m\n",
      "\u001b[34mSM_MODULE_DIR=s3://sagemaker-us-east-1-132067349151/rf-scikit-2023-05-06-01-19-25-605/source/sourcedir.tar.gz\u001b[0m\n",
      "\u001b[34mSM_TRAINING_ENV={\"additional_framework_parameters\":{},\"channel_input_dirs\":{\"test\":\"/opt/ml/input/data/test\",\"train\":\"/opt/ml/input/data/train\"},\"current_host\":\"algo-1\",\"framework_module\":\"sagemaker_sklearn_container.training:main\",\"hosts\":[\"algo-1\"],\"hyperparameters\":{\"features\":\"IR_var QD_var time ir Q T\",\"min-samples-leaf\":3,\"n-estimators\":100,\"target\":\"target\"},\"input_config_dir\":\"/opt/ml/input/config\",\"input_data_config\":{\"test\":{\"RecordWrapperType\":\"None\",\"S3DistributionType\":\"FullyReplicated\",\"TrainingInputMode\":\"File\"},\"train\":{\"RecordWrapperType\":\"None\",\"S3DistributionType\":\"FullyReplicated\",\"TrainingInputMode\":\"File\"}},\"input_dir\":\"/opt/ml/input\",\"is_master\":true,\"job_name\":\"rf-scikit-2023-05-06-01-19-25-605\",\"log_level\":20,\"master_hostname\":\"algo-1\",\"model_dir\":\"/opt/ml/model\",\"module_dir\":\"s3://sagemaker-us-east-1-132067349151/rf-scikit-2023-05-06-01-19-25-605/source/sourcedir.tar.gz\",\"module_name\":\"script\",\"network_interface_name\":\"eth0\",\"num_cpus\":4,\"num_gpus\":0,\"output_data_dir\":\"/opt/ml/output/data\",\"output_dir\":\"/opt/ml/output\",\"output_intermediate_dir\":\"/opt/ml/output/intermediate\",\"resource_config\":{\"current_group_name\":\"homogeneousCluster\",\"current_host\":\"algo-1\",\"current_instance_type\":\"ml.m4.xlarge\",\"hosts\":[\"algo-1\"],\"instance_groups\":[{\"hosts\":[\"algo-1\"],\"instance_group_name\":\"homogeneousCluster\",\"instance_type\":\"ml.m4.xlarge\"}],\"network_interface_name\":\"eth0\"},\"user_entry_point\":\"script.py\"}\u001b[0m\n",
      "\u001b[34mSM_USER_ARGS=[\"--features\",\"IR_var QD_var time ir Q T\",\"--min-samples-leaf\",\"3\",\"--n-estimators\",\"100\",\"--target\",\"target\"]\u001b[0m\n",
      "\u001b[34mSM_OUTPUT_INTERMEDIATE_DIR=/opt/ml/output/intermediate\u001b[0m\n",
      "\u001b[34mSM_CHANNEL_TEST=/opt/ml/input/data/test\u001b[0m\n",
      "\u001b[34mSM_CHANNEL_TRAIN=/opt/ml/input/data/train\u001b[0m\n",
      "\u001b[34mSM_HP_FEATURES=IR_var QD_var time ir Q T\u001b[0m\n",
      "\u001b[34mSM_HP_MIN-SAMPLES-LEAF=3\u001b[0m\n",
      "\u001b[34mSM_HP_N-ESTIMATORS=100\u001b[0m\n",
      "\u001b[34mSM_HP_TARGET=target\u001b[0m\n",
      "\u001b[34mPYTHONPATH=/opt/ml/code:/miniconda3/bin:/miniconda3/lib/python37.zip:/miniconda3/lib/python3.7:/miniconda3/lib/python3.7/lib-dynload:/miniconda3/lib/python3.7/site-packages\u001b[0m\n",
      "\u001b[34mInvoking script with the following command:\u001b[0m\n",
      "\u001b[34m/miniconda3/bin/python script.py --features IR_var QD_var time ir Q T --min-samples-leaf 3 --n-estimators 100 --target target\u001b[0m\n",
      "\u001b[34mextracting arguments\u001b[0m\n",
      "\u001b[34mreading data\u001b[0m\n",
      "\u001b[34mbuilding training and testing datasets\u001b[0m\n",
      "\u001b[34mtraining model\u001b[0m\n",
      "\u001b[34mvalidating model\u001b[0m\n",
      "\u001b[34mAE-at-10th-percentile: 23.91729614829609\u001b[0m\n",
      "\u001b[34mAE-at-50th-percentile: 100.31786652236656\u001b[0m\n",
      "\u001b[34mAE-at-90th-percentile: 339.4712000721504\u001b[0m\n",
      "\u001b[34mmodel persisted at /opt/ml/model/model.joblib\u001b[0m\n",
      "\u001b[34m3\u001b[0m\n",
      "\u001b[34m2023-05-06 01:22:47,107 sagemaker-containers INFO     Reporting training SUCCESS\u001b[0m\n",
      "\n",
      "2023-05-06 01:23:04 Uploading - Uploading generated training model\n",
      "2023-05-06 01:23:04 Completed - Training job completed\n",
      "Training seconds: 97\n",
      "Billable seconds: 97\n"
     ]
    }
   ],
   "source": [
    "sklearn_estimator.fit({\"train\": trainpath, \"test\": testpath}, wait=True)"
   ]
  },
  {
   "cell_type": "code",
   "execution_count": 20,
   "id": "d043189d-cca6-466f-8259-d192a9413c17",
   "metadata": {
    "tags": []
   },
   "outputs": [
    {
     "name": "stdout",
     "output_type": "stream",
     "text": [
      "\n",
      "2023-05-06 01:23:04 Starting - Preparing the instances for training\n",
      "2023-05-06 01:23:04 Downloading - Downloading input data\n",
      "2023-05-06 01:23:04 Training - Training image download completed. Training in progress.\n",
      "2023-05-06 01:23:04 Uploading - Uploading generated training model\n",
      "2023-05-06 01:23:04 Completed - Training job completed\n",
      "Model artifact persisted at s3://sagemaker-us-east-1-132067349151/rf-scikit-2023-05-06-01-19-25-605/output/model.tar.gz\n"
     ]
    }
   ],
   "source": [
    "sklearn_estimator.latest_training_job.wait(logs=\"None\")\n",
    "artifact = sm_boto3.describe_training_job(\n",
    "    TrainingJobName=sklearn_estimator.latest_training_job.name\n",
    ")[\"ModelArtifacts\"][\"S3ModelArtifacts\"]\n",
    "\n",
    "print(\"Model artifact persisted at \" + artifact)"
   ]
  },
  {
   "cell_type": "code",
   "execution_count": 21,
   "id": "45742051-24a2-4ad1-9879-7a470cbac7a0",
   "metadata": {
    "tags": []
   },
   "outputs": [],
   "source": [
    "from sagemaker.sklearn.model import SKLearnModel\n",
    "\n",
    "model = SKLearnModel(\n",
    "    model_data=artifact,\n",
    "    role=get_execution_role(),\n",
    "    entry_point=\"script.py\",\n",
    "    framework_version=FRAMEWORK_VERSION,\n",
    ")"
   ]
  },
  {
   "cell_type": "code",
   "execution_count": 26,
   "id": "b373ed6d-5e08-41a8-af20-d8be812ccdb6",
   "metadata": {
    "tags": []
   },
   "outputs": [
    {
     "name": "stderr",
     "output_type": "stream",
     "text": [
      "INFO:sagemaker:Creating model with name: sagemaker-scikit-learn-2023-05-06-01-35-33-248\n",
      "INFO:sagemaker:Creating endpoint-config with name sagemaker-scikit-learn-2023-05-06-01-35-33-945\n",
      "INFO:sagemaker:Creating endpoint with name sagemaker-scikit-learn-2023-05-06-01-35-33-945\n"
     ]
    },
    {
     "name": "stdout",
     "output_type": "stream",
     "text": [
      "------!"
     ]
    }
   ],
   "source": [
    "predictor = model.deploy(instance_type=\"ml.m4.xlarge\", initial_instance_count=1)"
   ]
  },
  {
   "cell_type": "code",
   "execution_count": 27,
   "id": "b6ec0bb6-deaf-44e2-94b2-22e6ceca7b2b",
   "metadata": {
    "tags": []
   },
   "outputs": [
    {
     "name": "stderr",
     "output_type": "stream",
     "text": [
      "WARNING:sagemaker.deprecations:The endpoint attribute has been renamed in sagemaker>=2.\n",
      "See: https://sagemaker.readthedocs.io/en/stable/v2.html for details.\n"
     ]
    },
    {
     "data": {
      "text/plain": [
       "{'ResponseMetadata': {'RequestId': '1bcfd0ec-1af1-4440-9d36-05a3eb1571cd',\n",
       "  'HTTPStatusCode': 200,\n",
       "  'HTTPHeaders': {'x-amzn-requestid': '1bcfd0ec-1af1-4440-9d36-05a3eb1571cd',\n",
       "   'content-type': 'application/x-amz-json-1.1',\n",
       "   'content-length': '0',\n",
       "   'date': 'Sat, 06 May 2023 01:48:10 GMT'},\n",
       "  'RetryAttempts': 0}}"
      ]
     },
     "execution_count": 27,
     "metadata": {},
     "output_type": "execute_result"
    }
   ],
   "source": [
    "sm_boto3.delete_endpoint(EndpointName=predictor.endpoint)"
   ]
  },
  {
   "cell_type": "code",
   "execution_count": null,
   "id": "74b668e5-8409-45fc-a068-c4c86a1fc45d",
   "metadata": {},
   "outputs": [],
   "source": []
  }
 ],
 "metadata": {
  "availableInstances": [
   {
    "_defaultOrder": 0,
    "_isFastLaunch": true,
    "category": "General purpose",
    "gpuNum": 0,
    "hideHardwareSpecs": false,
    "memoryGiB": 4,
    "name": "ml.t3.medium",
    "vcpuNum": 2
   },
   {
    "_defaultOrder": 1,
    "_isFastLaunch": false,
    "category": "General purpose",
    "gpuNum": 0,
    "hideHardwareSpecs": false,
    "memoryGiB": 8,
    "name": "ml.t3.large",
    "vcpuNum": 2
   },
   {
    "_defaultOrder": 2,
    "_isFastLaunch": false,
    "category": "General purpose",
    "gpuNum": 0,
    "hideHardwareSpecs": false,
    "memoryGiB": 16,
    "name": "ml.t3.xlarge",
    "vcpuNum": 4
   },
   {
    "_defaultOrder": 3,
    "_isFastLaunch": false,
    "category": "General purpose",
    "gpuNum": 0,
    "hideHardwareSpecs": false,
    "memoryGiB": 32,
    "name": "ml.t3.2xlarge",
    "vcpuNum": 8
   },
   {
    "_defaultOrder": 4,
    "_isFastLaunch": true,
    "category": "General purpose",
    "gpuNum": 0,
    "hideHardwareSpecs": false,
    "memoryGiB": 8,
    "name": "ml.m5.large",
    "vcpuNum": 2
   },
   {
    "_defaultOrder": 5,
    "_isFastLaunch": false,
    "category": "General purpose",
    "gpuNum": 0,
    "hideHardwareSpecs": false,
    "memoryGiB": 16,
    "name": "ml.m5.xlarge",
    "vcpuNum": 4
   },
   {
    "_defaultOrder": 6,
    "_isFastLaunch": false,
    "category": "General purpose",
    "gpuNum": 0,
    "hideHardwareSpecs": false,
    "memoryGiB": 32,
    "name": "ml.m5.2xlarge",
    "vcpuNum": 8
   },
   {
    "_defaultOrder": 7,
    "_isFastLaunch": false,
    "category": "General purpose",
    "gpuNum": 0,
    "hideHardwareSpecs": false,
    "memoryGiB": 64,
    "name": "ml.m5.4xlarge",
    "vcpuNum": 16
   },
   {
    "_defaultOrder": 8,
    "_isFastLaunch": false,
    "category": "General purpose",
    "gpuNum": 0,
    "hideHardwareSpecs": false,
    "memoryGiB": 128,
    "name": "ml.m5.8xlarge",
    "vcpuNum": 32
   },
   {
    "_defaultOrder": 9,
    "_isFastLaunch": false,
    "category": "General purpose",
    "gpuNum": 0,
    "hideHardwareSpecs": false,
    "memoryGiB": 192,
    "name": "ml.m5.12xlarge",
    "vcpuNum": 48
   },
   {
    "_defaultOrder": 10,
    "_isFastLaunch": false,
    "category": "General purpose",
    "gpuNum": 0,
    "hideHardwareSpecs": false,
    "memoryGiB": 256,
    "name": "ml.m5.16xlarge",
    "vcpuNum": 64
   },
   {
    "_defaultOrder": 11,
    "_isFastLaunch": false,
    "category": "General purpose",
    "gpuNum": 0,
    "hideHardwareSpecs": false,
    "memoryGiB": 384,
    "name": "ml.m5.24xlarge",
    "vcpuNum": 96
   },
   {
    "_defaultOrder": 12,
    "_isFastLaunch": false,
    "category": "General purpose",
    "gpuNum": 0,
    "hideHardwareSpecs": false,
    "memoryGiB": 8,
    "name": "ml.m5d.large",
    "vcpuNum": 2
   },
   {
    "_defaultOrder": 13,
    "_isFastLaunch": false,
    "category": "General purpose",
    "gpuNum": 0,
    "hideHardwareSpecs": false,
    "memoryGiB": 16,
    "name": "ml.m5d.xlarge",
    "vcpuNum": 4
   },
   {
    "_defaultOrder": 14,
    "_isFastLaunch": false,
    "category": "General purpose",
    "gpuNum": 0,
    "hideHardwareSpecs": false,
    "memoryGiB": 32,
    "name": "ml.m5d.2xlarge",
    "vcpuNum": 8
   },
   {
    "_defaultOrder": 15,
    "_isFastLaunch": false,
    "category": "General purpose",
    "gpuNum": 0,
    "hideHardwareSpecs": false,
    "memoryGiB": 64,
    "name": "ml.m5d.4xlarge",
    "vcpuNum": 16
   },
   {
    "_defaultOrder": 16,
    "_isFastLaunch": false,
    "category": "General purpose",
    "gpuNum": 0,
    "hideHardwareSpecs": false,
    "memoryGiB": 128,
    "name": "ml.m5d.8xlarge",
    "vcpuNum": 32
   },
   {
    "_defaultOrder": 17,
    "_isFastLaunch": false,
    "category": "General purpose",
    "gpuNum": 0,
    "hideHardwareSpecs": false,
    "memoryGiB": 192,
    "name": "ml.m5d.12xlarge",
    "vcpuNum": 48
   },
   {
    "_defaultOrder": 18,
    "_isFastLaunch": false,
    "category": "General purpose",
    "gpuNum": 0,
    "hideHardwareSpecs": false,
    "memoryGiB": 256,
    "name": "ml.m5d.16xlarge",
    "vcpuNum": 64
   },
   {
    "_defaultOrder": 19,
    "_isFastLaunch": false,
    "category": "General purpose",
    "gpuNum": 0,
    "hideHardwareSpecs": false,
    "memoryGiB": 384,
    "name": "ml.m5d.24xlarge",
    "vcpuNum": 96
   },
   {
    "_defaultOrder": 20,
    "_isFastLaunch": false,
    "category": "General purpose",
    "gpuNum": 0,
    "hideHardwareSpecs": true,
    "memoryGiB": 0,
    "name": "ml.geospatial.interactive",
    "supportedImageNames": [
     "sagemaker-geospatial-v1-0"
    ],
    "vcpuNum": 0
   },
   {
    "_defaultOrder": 21,
    "_isFastLaunch": true,
    "category": "Compute optimized",
    "gpuNum": 0,
    "hideHardwareSpecs": false,
    "memoryGiB": 4,
    "name": "ml.c5.large",
    "vcpuNum": 2
   },
   {
    "_defaultOrder": 22,
    "_isFastLaunch": false,
    "category": "Compute optimized",
    "gpuNum": 0,
    "hideHardwareSpecs": false,
    "memoryGiB": 8,
    "name": "ml.c5.xlarge",
    "vcpuNum": 4
   },
   {
    "_defaultOrder": 23,
    "_isFastLaunch": false,
    "category": "Compute optimized",
    "gpuNum": 0,
    "hideHardwareSpecs": false,
    "memoryGiB": 16,
    "name": "ml.c5.2xlarge",
    "vcpuNum": 8
   },
   {
    "_defaultOrder": 24,
    "_isFastLaunch": false,
    "category": "Compute optimized",
    "gpuNum": 0,
    "hideHardwareSpecs": false,
    "memoryGiB": 32,
    "name": "ml.c5.4xlarge",
    "vcpuNum": 16
   },
   {
    "_defaultOrder": 25,
    "_isFastLaunch": false,
    "category": "Compute optimized",
    "gpuNum": 0,
    "hideHardwareSpecs": false,
    "memoryGiB": 72,
    "name": "ml.c5.9xlarge",
    "vcpuNum": 36
   },
   {
    "_defaultOrder": 26,
    "_isFastLaunch": false,
    "category": "Compute optimized",
    "gpuNum": 0,
    "hideHardwareSpecs": false,
    "memoryGiB": 96,
    "name": "ml.c5.12xlarge",
    "vcpuNum": 48
   },
   {
    "_defaultOrder": 27,
    "_isFastLaunch": false,
    "category": "Compute optimized",
    "gpuNum": 0,
    "hideHardwareSpecs": false,
    "memoryGiB": 144,
    "name": "ml.c5.18xlarge",
    "vcpuNum": 72
   },
   {
    "_defaultOrder": 28,
    "_isFastLaunch": false,
    "category": "Compute optimized",
    "gpuNum": 0,
    "hideHardwareSpecs": false,
    "memoryGiB": 192,
    "name": "ml.c5.24xlarge",
    "vcpuNum": 96
   },
   {
    "_defaultOrder": 29,
    "_isFastLaunch": true,
    "category": "Accelerated computing",
    "gpuNum": 1,
    "hideHardwareSpecs": false,
    "memoryGiB": 16,
    "name": "ml.g4dn.xlarge",
    "vcpuNum": 4
   },
   {
    "_defaultOrder": 30,
    "_isFastLaunch": false,
    "category": "Accelerated computing",
    "gpuNum": 1,
    "hideHardwareSpecs": false,
    "memoryGiB": 32,
    "name": "ml.g4dn.2xlarge",
    "vcpuNum": 8
   },
   {
    "_defaultOrder": 31,
    "_isFastLaunch": false,
    "category": "Accelerated computing",
    "gpuNum": 1,
    "hideHardwareSpecs": false,
    "memoryGiB": 64,
    "name": "ml.g4dn.4xlarge",
    "vcpuNum": 16
   },
   {
    "_defaultOrder": 32,
    "_isFastLaunch": false,
    "category": "Accelerated computing",
    "gpuNum": 1,
    "hideHardwareSpecs": false,
    "memoryGiB": 128,
    "name": "ml.g4dn.8xlarge",
    "vcpuNum": 32
   },
   {
    "_defaultOrder": 33,
    "_isFastLaunch": false,
    "category": "Accelerated computing",
    "gpuNum": 4,
    "hideHardwareSpecs": false,
    "memoryGiB": 192,
    "name": "ml.g4dn.12xlarge",
    "vcpuNum": 48
   },
   {
    "_defaultOrder": 34,
    "_isFastLaunch": false,
    "category": "Accelerated computing",
    "gpuNum": 1,
    "hideHardwareSpecs": false,
    "memoryGiB": 256,
    "name": "ml.g4dn.16xlarge",
    "vcpuNum": 64
   },
   {
    "_defaultOrder": 35,
    "_isFastLaunch": false,
    "category": "Accelerated computing",
    "gpuNum": 1,
    "hideHardwareSpecs": false,
    "memoryGiB": 61,
    "name": "ml.p3.2xlarge",
    "vcpuNum": 8
   },
   {
    "_defaultOrder": 36,
    "_isFastLaunch": false,
    "category": "Accelerated computing",
    "gpuNum": 4,
    "hideHardwareSpecs": false,
    "memoryGiB": 244,
    "name": "ml.p3.8xlarge",
    "vcpuNum": 32
   },
   {
    "_defaultOrder": 37,
    "_isFastLaunch": false,
    "category": "Accelerated computing",
    "gpuNum": 8,
    "hideHardwareSpecs": false,
    "memoryGiB": 488,
    "name": "ml.p3.16xlarge",
    "vcpuNum": 64
   },
   {
    "_defaultOrder": 38,
    "_isFastLaunch": false,
    "category": "Accelerated computing",
    "gpuNum": 8,
    "hideHardwareSpecs": false,
    "memoryGiB": 768,
    "name": "ml.p3dn.24xlarge",
    "vcpuNum": 96
   },
   {
    "_defaultOrder": 39,
    "_isFastLaunch": false,
    "category": "Memory Optimized",
    "gpuNum": 0,
    "hideHardwareSpecs": false,
    "memoryGiB": 16,
    "name": "ml.r5.large",
    "vcpuNum": 2
   },
   {
    "_defaultOrder": 40,
    "_isFastLaunch": false,
    "category": "Memory Optimized",
    "gpuNum": 0,
    "hideHardwareSpecs": false,
    "memoryGiB": 32,
    "name": "ml.r5.xlarge",
    "vcpuNum": 4
   },
   {
    "_defaultOrder": 41,
    "_isFastLaunch": false,
    "category": "Memory Optimized",
    "gpuNum": 0,
    "hideHardwareSpecs": false,
    "memoryGiB": 64,
    "name": "ml.r5.2xlarge",
    "vcpuNum": 8
   },
   {
    "_defaultOrder": 42,
    "_isFastLaunch": false,
    "category": "Memory Optimized",
    "gpuNum": 0,
    "hideHardwareSpecs": false,
    "memoryGiB": 128,
    "name": "ml.r5.4xlarge",
    "vcpuNum": 16
   },
   {
    "_defaultOrder": 43,
    "_isFastLaunch": false,
    "category": "Memory Optimized",
    "gpuNum": 0,
    "hideHardwareSpecs": false,
    "memoryGiB": 256,
    "name": "ml.r5.8xlarge",
    "vcpuNum": 32
   },
   {
    "_defaultOrder": 44,
    "_isFastLaunch": false,
    "category": "Memory Optimized",
    "gpuNum": 0,
    "hideHardwareSpecs": false,
    "memoryGiB": 384,
    "name": "ml.r5.12xlarge",
    "vcpuNum": 48
   },
   {
    "_defaultOrder": 45,
    "_isFastLaunch": false,
    "category": "Memory Optimized",
    "gpuNum": 0,
    "hideHardwareSpecs": false,
    "memoryGiB": 512,
    "name": "ml.r5.16xlarge",
    "vcpuNum": 64
   },
   {
    "_defaultOrder": 46,
    "_isFastLaunch": false,
    "category": "Memory Optimized",
    "gpuNum": 0,
    "hideHardwareSpecs": false,
    "memoryGiB": 768,
    "name": "ml.r5.24xlarge",
    "vcpuNum": 96
   },
   {
    "_defaultOrder": 47,
    "_isFastLaunch": false,
    "category": "Accelerated computing",
    "gpuNum": 1,
    "hideHardwareSpecs": false,
    "memoryGiB": 16,
    "name": "ml.g5.xlarge",
    "vcpuNum": 4
   },
   {
    "_defaultOrder": 48,
    "_isFastLaunch": false,
    "category": "Accelerated computing",
    "gpuNum": 1,
    "hideHardwareSpecs": false,
    "memoryGiB": 32,
    "name": "ml.g5.2xlarge",
    "vcpuNum": 8
   },
   {
    "_defaultOrder": 49,
    "_isFastLaunch": false,
    "category": "Accelerated computing",
    "gpuNum": 1,
    "hideHardwareSpecs": false,
    "memoryGiB": 64,
    "name": "ml.g5.4xlarge",
    "vcpuNum": 16
   },
   {
    "_defaultOrder": 50,
    "_isFastLaunch": false,
    "category": "Accelerated computing",
    "gpuNum": 1,
    "hideHardwareSpecs": false,
    "memoryGiB": 128,
    "name": "ml.g5.8xlarge",
    "vcpuNum": 32
   },
   {
    "_defaultOrder": 51,
    "_isFastLaunch": false,
    "category": "Accelerated computing",
    "gpuNum": 1,
    "hideHardwareSpecs": false,
    "memoryGiB": 256,
    "name": "ml.g5.16xlarge",
    "vcpuNum": 64
   },
   {
    "_defaultOrder": 52,
    "_isFastLaunch": false,
    "category": "Accelerated computing",
    "gpuNum": 4,
    "hideHardwareSpecs": false,
    "memoryGiB": 192,
    "name": "ml.g5.12xlarge",
    "vcpuNum": 48
   },
   {
    "_defaultOrder": 53,
    "_isFastLaunch": false,
    "category": "Accelerated computing",
    "gpuNum": 4,
    "hideHardwareSpecs": false,
    "memoryGiB": 384,
    "name": "ml.g5.24xlarge",
    "vcpuNum": 96
   },
   {
    "_defaultOrder": 54,
    "_isFastLaunch": false,
    "category": "Accelerated computing",
    "gpuNum": 8,
    "hideHardwareSpecs": false,
    "memoryGiB": 768,
    "name": "ml.g5.48xlarge",
    "vcpuNum": 192
   }
  ],
  "instance_type": "ml.t3.medium",
  "kernelspec": {
   "display_name": "Python 3 (Data Science)",
   "language": "python",
   "name": "python3__SAGEMAKER_INTERNAL__arn:aws:sagemaker:us-east-1:081325390199:image/datascience-1.0"
  },
  "language_info": {
   "codemirror_mode": {
    "name": "ipython",
    "version": 3
   },
   "file_extension": ".py",
   "mimetype": "text/x-python",
   "name": "python",
   "nbconvert_exporter": "python",
   "pygments_lexer": "ipython3",
   "version": "3.7.10"
  }
 },
 "nbformat": 4,
 "nbformat_minor": 5
}
